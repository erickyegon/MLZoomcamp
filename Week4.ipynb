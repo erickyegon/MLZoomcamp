{
 "cells": [
  {
   "cell_type": "code",
   "execution_count": 3,
   "id": "e7b99c55-defe-4a6e-aeb7-4db8ee59a8ec",
   "metadata": {},
   "outputs": [],
   "source": [
    "import io\n",
    "import numpy as np\n",
    "import pandas as pd\n",
    "import requests\n",
    "from sklearn.feature_extraction import DictVectorizer\n",
    "from sklearn.linear_model import LogisticRegression\n",
    "from sklearn.metrics import roc_auc_score\n",
    "from sklearn.model_selection import KFold, train_test_split\n",
    "import zipfile\n",
    "import seaborn as sns"
   ]
  },
  {
   "cell_type": "code",
   "execution_count": 6,
   "id": "8e937791-5465-49cf-a9cb-aaaeb9258a7a",
   "metadata": {},
   "outputs": [
    {
     "name": "stdout",
     "output_type": "stream",
     "text": [
      "\n",
      "First 5 rows of the dataset:\n",
      "   age          job  marital  education default  balance housing loan  \\\n",
      "0   30   unemployed  married    primary      no     1787      no   no   \n",
      "1   33     services  married  secondary      no     4789     yes  yes   \n",
      "2   35   management   single   tertiary      no     1350     yes   no   \n",
      "3   30   management  married   tertiary      no     1476     yes  yes   \n",
      "4   59  blue-collar  married  secondary      no        0     yes   no   \n",
      "\n",
      "    contact  day month  duration  campaign  pdays  previous poutcome   y  \n",
      "0  cellular   19   oct        79         1     -1         0  unknown  no  \n",
      "1  cellular   11   may       220         1    339         4  failure  no  \n",
      "2  cellular   16   apr       185         1    330         1  failure  no  \n",
      "3   unknown    3   jun       199         4     -1         0  unknown  no  \n",
      "4   unknown    5   may       226         1     -1         0  unknown  no  \n"
     ]
    }
   ],
   "source": [
    "# Download the zip file\n",
    "url = 'https://archive.ics.uci.edu/static/public/222/bank+marketing.zip'\n",
    "response = requests.get(url)\n",
    "\n",
    "# First, extract the outer zip file\n",
    "with zipfile.ZipFile(io.BytesIO(response.content)) as outer_zip:\n",
    "    # Extract the inner bank.zip file\n",
    "    with outer_zip.open('bank.zip') as inner_zip_file:\n",
    "        with zipfile.ZipFile(inner_zip_file) as inner_zip:\n",
    "            # Read the CSV directly from the inner zip file\n",
    "            with inner_zip.open('bank.csv') as csv_file:\n",
    "                df = pd.read_csv(csv_file, sep=';')\n",
    "\n",
    "# Display first few rows\n",
    "print(\"\\nFirst 5 rows of the dataset:\")\n",
    "print(df.head())"
   ]
  },
  {
   "cell_type": "code",
   "execution_count": 7,
   "id": "38397c7f-d3e5-4faf-9db0-5658f1ae31bf",
   "metadata": {},
   "outputs": [
    {
     "name": "stdout",
     "output_type": "stream",
     "text": [
      "Total dataset size: 4521\n",
      "Training set size: 2712 (60.0%)\n",
      "Validation set size: 904 (20.0%)\n",
      "Test set size: 905 (20.0%)\n"
     ]
    }
   ],
   "source": [
    "# Select only the specified columns\n",
    "selected_columns = [\n",
    "    'age', 'job', 'marital', 'education', 'balance', 'housing', \n",
    "    'contact', 'day', 'month', 'duration', 'campaign', 'pdays', \n",
    "    'previous', 'poutcome', 'y'\n",
    "]\n",
    "df = df[selected_columns]\n",
    "\n",
    "# First, let's split into temporary train (80%) and test (20%)\n",
    "train_temp, test = train_test_split(\n",
    "    df, \n",
    "    test_size=0.2, \n",
    "    random_state=1\n",
    ")\n",
    "\n",
    "# Then split the temporary train into final train (60% of total) and validation (20% of total)\n",
    "# To get this, we split train_temp into 75% train and 25% validation\n",
    "# (since 75% of 80% is 60%, and 25% of 80% is 20%)\n",
    "train, val = train_test_split(\n",
    "    train_temp,\n",
    "    test_size=0.25,  # 0.25 of 0.8 = 0.2 of total\n",
    "    random_state=1\n",
    ")\n",
    "\n",
    "# Verify the sizes\n",
    "print(f\"Total dataset size: {len(df)}\")\n",
    "print(f\"Training set size: {len(train)} ({len(train)/len(df):.1%})\")\n",
    "print(f\"Validation set size: {len(val)} ({len(val)/len(df):.1%})\")\n",
    "print(f\"Test set size: {len(test)} ({len(test)/len(df):.1%})\")"
   ]
  },
  {
   "cell_type": "code",
   "execution_count": 8,
   "id": "14a86ca3-c926-441f-aa91-3f113cc57720",
   "metadata": {},
   "outputs": [
    {
     "name": "stdout",
     "output_type": "stream",
     "text": [
      "Feature AUC scores:\n",
      "Feature\t\tAUC\t\tNeeds Inversion\n",
      "--------------------------------------------------\n",
      "duration        0.8109\t\tFalse\n",
      "previous        0.6033\t\tFalse\n",
      "pdays           0.5949\t\tFalse\n",
      "balance         0.5892\t\tFalse\n",
      "campaign        0.5478\t\tTrue\n",
      "age             0.5277\t\tFalse\n",
      "day             0.5138\t\tTrue\n"
     ]
    }
   ],
   "source": [
    "# Identify numerical columns\n",
    "numerical_columns = train.select_dtypes(include=['int64', 'float64']).columns\n",
    "# Remove target variable 'y' if it's in numerical columns\n",
    "numerical_columns = [col for col in numerical_columns if col != 'y']\n",
    "\n",
    "# Convert target to numeric (assuming it's 'yes'/'no')\n",
    "y_train = (train['y'] == 'yes').astype(int)\n",
    "\n",
    "# Calculate AUC for each numerical variable\n",
    "auc_scores = {}\n",
    "for col in numerical_columns:\n",
    "    score = train[col]\n",
    "    auc = roc_auc_score(y_train, score)\n",
    "    \n",
    "    # If AUC < 0.5, invert the variable and recalculate\n",
    "    if auc < 0.5:\n",
    "        auc = roc_auc_score(y_train, -score)\n",
    "        auc_scores[col] = (auc, True)  # True indicates needs inversion\n",
    "    else:\n",
    "        auc_scores[col] = (auc, False)  # False indicates no inversion needed\n",
    "\n",
    "# Sort features by AUC score\n",
    "sorted_features = sorted(auc_scores.items(), key=lambda x: x[1][0], reverse=True)\n",
    "\n",
    "# Print results\n",
    "print(\"Feature AUC scores:\")\n",
    "print(\"Feature\\t\\tAUC\\t\\tNeeds Inversion\")\n",
    "print(\"-\" * 50)\n",
    "for feature, (auc, needs_inversion) in sorted_features:\n",
    "    print(f\"{feature:<15} {auc:.4f}\\t\\t{needs_inversion}\")"
   ]
  },
  {
   "cell_type": "code",
   "execution_count": 9,
   "id": "53f6fdac-be76-40b9-99f0-ae6613c6b74b",
   "metadata": {},
   "outputs": [
    {
     "name": "stdout",
     "output_type": "stream",
     "text": [
      "Validation AUC: 1.000\n"
     ]
    }
   ],
   "source": [
    "# Convert dataframes to dictionaries\n",
    "train_dict = train.to_dict(orient='records')\n",
    "val_dict = val.to_dict(orient='records')\n",
    "\n",
    "# Initialize and fit DictVectorizer\n",
    "dv = DictVectorizer(sparse=False)\n",
    "X_train = dv.fit_transform(train_dict)\n",
    "X_val = dv.transform(val_dict)\n",
    "\n",
    "# Prepare target variables (convert 'yes'/'no' to 1/0)\n",
    "y_train = (train['y'] == 'yes').astype(int)\n",
    "y_val = (val['y'] == 'yes').astype(int)\n",
    "\n",
    "# Initialize and train the model\n",
    "model = LogisticRegression(solver='liblinear', C=1.0, max_iter=1000)\n",
    "model.fit(X_train, y_train)\n",
    "\n",
    "# Make predictions on validation set\n",
    "y_pred = model.predict_proba(X_val)[:, 1]\n",
    "\n",
    "# Calculate AUC\n",
    "auc = roc_auc_score(y_val, y_pred)\n",
    "print(f'Validation AUC: {auc:.3f}')"
   ]
  },
  {
   "cell_type": "code",
   "execution_count": 10,
   "id": "246dfba2-2136-4c3b-8fd3-9223fe2be7d4",
   "metadata": {},
   "outputs": [
    {
     "name": "stderr",
     "output_type": "stream",
     "text": [
      "C:\\ProgramData\\anaconda3\\Lib\\site-packages\\sklearn\\metrics\\_classification.py:1509: UndefinedMetricWarning: Precision is ill-defined and being set to 0.0 due to no predicted samples. Use `zero_division` parameter to control this behavior.\n",
      "  _warn_prf(average, modifier, f\"{metric.capitalize()} is\", len(result))\n"
     ]
    },
    {
     "data": {
      "image/png": "[encoded data removed]",
      "text/plain": [
       "<Figure size 1000x600 with 1 Axes>"
      ]
     },
     "metadata": {},
     "output_type": "display_data"
    },
    {
     "name": "stdout",
     "output_type": "stream",
     "text": [
      "Precision and recall intersect at threshold = 0.42\n",
      "At this threshold, precision = recall = 1.000\n"
     ]
    }
   ],
   "source": [
    "from sklearn.metrics import precision_score, recall_score\n",
    "import matplotlib.pyplot as plt\n",
    "import numpy as np\n",
    "\n",
    "# Generate thresholds from 0.0 to 1.0 with step 0.01\n",
    "thresholds = np.arange(0, 1.01, 0.01)\n",
    "\n",
    "precisions = []\n",
    "recalls = []\n",
    "\n",
    "# Calculate precision and recall for each threshold\n",
    "for threshold in thresholds:\n",
    "    # Convert probabilities to binary predictions using the threshold\n",
    "    y_pred_binary = (y_pred >= threshold).astype(int)\n",
    "    \n",
    "    # Calculate precision and recall\n",
    "    precision = precision_score(y_val, y_pred_binary)\n",
    "    recall = recall_score(y_val, y_pred_binary)\n",
    "    \n",
    "    precisions.append(precision)\n",
    "    recalls.append(recall)\n",
    "\n",
    "# Convert to numpy arrays for easier manipulation\n",
    "precisions = np.array(precisions)\n",
    "recalls = np.array(recalls)\n",
    "\n",
    "# Find intersection point\n",
    "# The intersection occurs where the absolute difference between precision and recall is minimal\n",
    "intersection_idx = np.argmin(np.abs(precisions - recalls))\n",
    "intersection_threshold = thresholds[intersection_idx]\n",
    "intersection_value = precisions[intersection_idx]\n",
    "\n",
    "# Create the plot\n",
    "plt.figure(figsize=(10, 6))\n",
    "plt.plot(thresholds, precisions, label='Precision', linewidth=2)\n",
    "plt.plot(thresholds, recalls, label='Recall', linewidth=2)\n",
    "plt.grid(True)\n",
    "plt.xlabel('Threshold')\n",
    "plt.ylabel('Score')\n",
    "plt.title('Precision and Recall vs Threshold')\n",
    "plt.legend()\n",
    "\n",
    "# Mark intersection point\n",
    "plt.plot(intersection_threshold, intersection_value, 'ro', label=f'Intersection at {intersection_threshold:.2f}')\n",
    "plt.legend()\n",
    "\n",
    "plt.show()\n",
    "\n",
    "print(f\"Precision and recall intersect at threshold = {intersection_threshold:.2f}\")\n",
    "print(f\"At this threshold, precision = recall = {intersection_value:.3f}\")"
   ]
  },
  {
   "cell_type": "code",
   "execution_count": 11,
   "id": "3c3f8300-3f64-47aa-873e-80096c648162",
   "metadata": {},
   "outputs": [
    {
     "name": "stdout",
     "output_type": "stream",
     "text": [
      "Fold 1 AUC: 1.000\n",
      "Fold 2 AUC: 1.000\n",
      "Fold 3 AUC: 1.000\n",
      "Fold 4 AUC: 1.000\n",
      "Fold 5 AUC: 1.000\n",
      "\n",
      "Summary:\n",
      "Average AUC: 1.000 ± 0.000\n",
      "Standard deviation: 0.000\n"
     ]
    }
   ],
   "source": [
    "# Combine train and validation sets to create full training dataset\n",
    "df_full_train = pd.concat([train, val])\n",
    "\n",
    "# Convert target to numeric\n",
    "y_full_train = (df_full_train['y'] == 'yes').astype(int)\n",
    "\n",
    "# Initialize KFold\n",
    "kf = KFold(n_splits=5, shuffle=True, random_state=1)\n",
    "\n",
    "# Store AUC scores for each fold\n",
    "auc_scores = []\n",
    "\n",
    "# Iterate through each fold\n",
    "for fold, (train_idx, val_idx) in enumerate(kf.split(df_full_train), 1):\n",
    "    # Split data into train and validation for this fold\n",
    "    df_train_fold = df_full_train.iloc[train_idx]\n",
    "    df_val_fold = df_full_train.iloc[val_idx]\n",
    "    \n",
    "    y_train_fold = y_full_train.iloc[train_idx]\n",
    "    y_val_fold = y_full_train.iloc[val_idx]\n",
    "    \n",
    "    # Convert to dict and apply DictVectorizer\n",
    "    train_dict = df_train_fold.to_dict(orient='records')\n",
    "    val_dict = df_val_fold.to_dict(orient='records')\n",
    "    \n",
    "    dv = DictVectorizer(sparse=False)\n",
    "    X_train_fold = dv.fit_transform(train_dict)\n",
    "    X_val_fold = dv.transform(val_dict)\n",
    "    \n",
    "    # Train model\n",
    "    model = LogisticRegression(solver='liblinear', C=1.0, max_iter=1000)\n",
    "    model.fit(X_train_fold, y_train_fold)\n",
    "    \n",
    "    # Make predictions and calculate AUC\n",
    "    y_pred_fold = model.predict_proba(X_val_fold)[:, 1]\n",
    "    auc = roc_auc_score(y_val_fold, y_pred_fold)\n",
    "    auc_scores.append(auc)\n",
    "    \n",
    "    print(f\"Fold {fold} AUC: {auc:.3f}\")\n",
    "\n",
    "# Calculate mean and standard deviation\n",
    "auc_mean = np.mean(auc_scores)\n",
    "auc_std = np.std(auc_scores)\n",
    "\n",
    "print(\"\\nSummary:\")\n",
    "print(f\"Average AUC: {auc_mean:.3f} ± {auc_std:.3f}\")\n",
    "print(f\"Standard deviation: {auc_std:.3f}\")"
   ]
  },
  {
   "cell_type": "code",
   "execution_count": 12,
   "id": "15051e6f-6457-4fc6-a7ea-a25adbd9e2aa",
   "metadata": {},
   "outputs": [
    {
     "name": "stdout",
     "output_type": "stream",
     "text": [
      "Results for each C value:\n",
      "\n",
      "C\t\tMean AUC ± Std\n",
      "----------------------------------------\n",
      "0.000001\t0.328 ± 0.051\n",
      "0.001000\t0.855 ± 0.044\n",
      "1.000000\t1.000 ± 0.000\n",
      "\n",
      "Best C value: 1\n",
      "Best mean AUC: 1.000\n"
     ]
    }
   ],
   "source": [
    "# C values to test\n",
    "C_values = [0.000001, 0.001, 1]\n",
    "\n",
    "# Initialize KFold\n",
    "kf = KFold(n_splits=5, shuffle=True, random_state=1)\n",
    "\n",
    "# Dictionary to store results for each C\n",
    "results = {}\n",
    "\n",
    "for C in C_values:\n",
    "    auc_scores = []\n",
    "    \n",
    "    # Perform k-fold cross validation\n",
    "    for fold, (train_idx, val_idx) in enumerate(kf.split(df_full_train), 1):\n",
    "        # Split data into train and validation for this fold\n",
    "        df_train_fold = df_full_train.iloc[train_idx]\n",
    "        df_val_fold = df_full_train.iloc[val_idx]\n",
    "        \n",
    "        y_train_fold = y_full_train.iloc[train_idx]\n",
    "        y_val_fold = y_full_train.iloc[val_idx]\n",
    "        \n",
    "        # Convert to dict and apply DictVectorizer\n",
    "        train_dict = df_train_fold.to_dict(orient='records')\n",
    "        val_dict = df_val_fold.to_dict(orient='records')\n",
    "        \n",
    "        dv = DictVectorizer(sparse=False)\n",
    "        X_train_fold = dv.fit_transform(train_dict)\n",
    "        X_val_fold = dv.transform(val_dict)\n",
    "        \n",
    "        # Train model with current C value\n",
    "        model = LogisticRegression(solver='liblinear', C=C, max_iter=1000)\n",
    "        model.fit(X_train_fold, y_train_fold)\n",
    "        \n",
    "        # Make predictions and calculate AUC\n",
    "        y_pred_fold = model.predict_proba(X_val_fold)[:, 1]\n",
    "        auc = roc_auc_score(y_val_fold, y_pred_fold)\n",
    "        auc_scores.append(auc)\n",
    "    \n",
    "    # Calculate mean and std for current C value\n",
    "    mean_auc = np.mean(auc_scores)\n",
    "    std_auc = np.std(auc_scores)\n",
    "    \n",
    "    # Store results\n",
    "    results[C] = {\n",
    "        'mean_auc': round(mean_auc, 3),\n",
    "        'std_auc': round(std_auc, 3)\n",
    "    }\n",
    "\n",
    "# Print results\n",
    "print(\"Results for each C value:\")\n",
    "print(\"\\nC\\t\\tMean AUC ± Std\")\n",
    "print(\"-\" * 40)\n",
    "for C in C_values:\n",
    "    print(f\"{C:.6f}\\t{results[C]['mean_auc']:.3f} ± {results[C]['std_auc']:.3f}\")\n",
    "\n",
    "# Find best C\n",
    "best_C = max(results.items(), key=lambda x: x[1]['mean_auc'])[0]\n",
    "print(f\"\\nBest C value: {best_C}\")\n",
    "print(f\"Best mean AUC: {results[best_C]['mean_auc']:.3f}\")"
   ]
  },
  {
   "cell_type": "code",
   "execution_count": null,
   "id": "d58e2047-7d0c-4d81-bb3f-6f8bfd6d078d",
   "metadata": {},
   "outputs": [],
   "source": []
  }
 ],
 "metadata": {
  "kernelspec": {
   "display_name": "Python 3 (ipykernel)",
   "language": "python",
   "name": "python3"
  },
  "language_info": {
   "codemirror_mode": {
    "name": "ipython",
    "version": 3
   },
   "file_extension": ".py",
   "mimetype": "text/x-python",
   "name": "python",
   "nbconvert_exporter": "python",
   "pygments_lexer": "ipython3",
   "version": "3.12.4"
  }
 },
 "nbformat": 4,
 "nbformat_minor": 5
}
