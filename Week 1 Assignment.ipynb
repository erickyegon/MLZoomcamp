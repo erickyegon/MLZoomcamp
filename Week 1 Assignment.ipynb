{
 "cells": [
  {
   "cell_type": "code",
   "execution_count": 52,
   "metadata": {},
   "outputs": [],
   "source": [
    "import pandas as pd\n",
    "import numpy as np\n",
    "import matplotlib.pyplot as plt\n",
    "import seaborn as sns\n",
    "sns.set()\n",
    "import requests\n",
    "import warnings\n",
    "\n",
    "# Ignore warnings\n",
    "warnings.filterwarnings(\"ignore\")"
   ]
  },
  {
   "cell_type": "code",
   "execution_count": 72,
   "metadata": {},
   "outputs": [
    {
     "data": {
      "text/plain": [
       "'2.2.2'"
      ]
     },
     "execution_count": 72,
     "metadata": {},
     "output_type": "execute_result"
    }
   ],
   "source": [
    "pd.__version__"
   ]
  },
  {
   "cell_type": "markdown",
   "metadata": {},
   "source": [
    "# Loading Data"
   ]
  },
  {
   "cell_type": "code",
   "execution_count": 7,
   "metadata": {},
   "outputs": [
    {
     "name": "stdout",
     "output_type": "stream",
     "text": [
      "Download complete!\n"
     ]
    }
   ],
   "source": [
    "\n",
    "\n",
    "url = 'https://raw.githubusercontent.com/alexeygrigorev/datasets/master/laptops.csv'\n",
    "response = requests.get(url)\n",
    "\n",
    "# Save the content to a file\n",
    "with open('laptops.csv', 'wb') as file:\n",
    "    file.write(response.content)\n",
    "\n",
    "print(\"Download complete!\")\n",
    "# Read the CSV file\n",
    "data = pd.read_csv('laptops.csv')\n",
    "\n",
    "# Display the first few rows of the data\n"
   ]
  },
  {
   "cell_type": "code",
   "execution_count": 11,
   "metadata": {},
   "outputs": [
    {
     "data": {
      "text/html": [
       "<div>\n",
       "<style scoped>\n",
       "    .dataframe tbody tr th:only-of-type {\n",
       "        vertical-align: middle;\n",
       "    }\n",
       "\n",
       "    .dataframe tbody tr th {\n",
       "        vertical-align: top;\n",
       "    }\n",
       "\n",
       "    .dataframe thead th {\n",
       "        text-align: right;\n",
       "    }\n",
       "</style>\n",
       "<table border=\"1\" class=\"dataframe\">\n",
       "  <thead>\n",
       "    <tr style=\"text-align: right;\">\n",
       "      <th></th>\n",
       "      <th>Laptop</th>\n",
       "      <th>Status</th>\n",
       "      <th>Brand</th>\n",
       "      <th>Model</th>\n",
       "      <th>CPU</th>\n",
       "      <th>RAM</th>\n",
       "      <th>Storage</th>\n",
       "      <th>Storage type</th>\n",
       "      <th>GPU</th>\n",
       "      <th>Screen</th>\n",
       "      <th>Touch</th>\n",
       "      <th>Final Price</th>\n",
       "    </tr>\n",
       "  </thead>\n",
       "  <tbody>\n",
       "    <tr>\n",
       "      <th>703</th>\n",
       "      <td>Dell Latitude E7470  Intel Core i5-6200U/16GB/...</td>\n",
       "      <td>Refurbished</td>\n",
       "      <td>Dell</td>\n",
       "      <td>Latitude</td>\n",
       "      <td>Intel Core i5</td>\n",
       "      <td>16</td>\n",
       "      <td>256</td>\n",
       "      <td>SSD</td>\n",
       "      <td>NaN</td>\n",
       "      <td>14.0</td>\n",
       "      <td>No</td>\n",
       "      <td>499.00</td>\n",
       "    </tr>\n",
       "    <tr>\n",
       "      <th>619</th>\n",
       "      <td>ASUS E510MA-EJ1188W Intel Celeron N4020/8GB/25...</td>\n",
       "      <td>New</td>\n",
       "      <td>Asus</td>\n",
       "      <td>E510</td>\n",
       "      <td>Intel Celeron</td>\n",
       "      <td>8</td>\n",
       "      <td>256</td>\n",
       "      <td>SSD</td>\n",
       "      <td>NaN</td>\n",
       "      <td>15.6</td>\n",
       "      <td>No</td>\n",
       "      <td>329.99</td>\n",
       "    </tr>\n",
       "    <tr>\n",
       "      <th>1293</th>\n",
       "      <td>Acer Extensa 15 EX215-54-50UV Intel Core i5-11...</td>\n",
       "      <td>New</td>\n",
       "      <td>Acer</td>\n",
       "      <td>Extensa</td>\n",
       "      <td>Intel Core i5</td>\n",
       "      <td>8</td>\n",
       "      <td>512</td>\n",
       "      <td>SSD</td>\n",
       "      <td>NaN</td>\n",
       "      <td>15.6</td>\n",
       "      <td>No</td>\n",
       "      <td>541.55</td>\n",
       "    </tr>\n",
       "    <tr>\n",
       "      <th>832</th>\n",
       "      <td>ASUS VivoBook 15 F1502ZA-EJ1119W Intel Core i7...</td>\n",
       "      <td>New</td>\n",
       "      <td>Asus</td>\n",
       "      <td>VivoBook</td>\n",
       "      <td>Intel Core i7</td>\n",
       "      <td>8</td>\n",
       "      <td>512</td>\n",
       "      <td>SSD</td>\n",
       "      <td>NaN</td>\n",
       "      <td>15.6</td>\n",
       "      <td>No</td>\n",
       "      <td>635.01</td>\n",
       "    </tr>\n",
       "    <tr>\n",
       "      <th>470</th>\n",
       "      <td>MSI Raider GE68HX 13VF-044ES Intel Core i9-139...</td>\n",
       "      <td>New</td>\n",
       "      <td>MSI</td>\n",
       "      <td>Raider</td>\n",
       "      <td>Intel Core i9</td>\n",
       "      <td>32</td>\n",
       "      <td>1000</td>\n",
       "      <td>SSD</td>\n",
       "      <td>RTX 4060</td>\n",
       "      <td>16.0</td>\n",
       "      <td>No</td>\n",
       "      <td>2899.00</td>\n",
       "    </tr>\n",
       "  </tbody>\n",
       "</table>\n",
       "</div>"
      ],
      "text/plain": [
       "                                                 Laptop       Status Brand  \\\n",
       "703   Dell Latitude E7470  Intel Core i5-6200U/16GB/...  Refurbished  Dell   \n",
       "619   ASUS E510MA-EJ1188W Intel Celeron N4020/8GB/25...          New  Asus   \n",
       "1293  Acer Extensa 15 EX215-54-50UV Intel Core i5-11...          New  Acer   \n",
       "832   ASUS VivoBook 15 F1502ZA-EJ1119W Intel Core i7...          New  Asus   \n",
       "470   MSI Raider GE68HX 13VF-044ES Intel Core i9-139...          New   MSI   \n",
       "\n",
       "         Model            CPU  RAM  Storage Storage type       GPU  Screen  \\\n",
       "703   Latitude  Intel Core i5   16      256          SSD       NaN    14.0   \n",
       "619       E510  Intel Celeron    8      256          SSD       NaN    15.6   \n",
       "1293   Extensa  Intel Core i5    8      512          SSD       NaN    15.6   \n",
       "832   VivoBook  Intel Core i7    8      512          SSD       NaN    15.6   \n",
       "470     Raider  Intel Core i9   32     1000          SSD  RTX 4060    16.0   \n",
       "\n",
       "     Touch  Final Price  \n",
       "703     No       499.00  \n",
       "619     No       329.99  \n",
       "1293    No       541.55  \n",
       "832     No       635.01  \n",
       "470     No      2899.00  "
      ]
     },
     "execution_count": 11,
     "metadata": {},
     "output_type": "execute_result"
    }
   ],
   "source": [
    "data.sample(5)"
   ]
  },
  {
   "cell_type": "markdown",
   "metadata": {},
   "source": [
    "## Question 1: How many records are in the dataset?"
   ]
  },
  {
   "cell_type": "code",
   "execution_count": 9,
   "metadata": {},
   "outputs": [
    {
     "name": "stdout",
     "output_type": "stream",
     "text": [
      "There are 2160  records in the dataset \n"
     ]
    }
   ],
   "source": [
    "print(f\"There are {data.shape[0]}  records in the dataset \")"
   ]
  },
  {
   "cell_type": "markdown",
   "metadata": {},
   "source": [
    "## Q3. Laptop brands\n",
    "How many laptop brands are presented in the dataset?"
   ]
  },
  {
   "cell_type": "code",
   "execution_count": 14,
   "metadata": {},
   "outputs": [
    {
     "name": "stdout",
     "output_type": "stream",
     "text": [
      " There are  27 unique laptop brands in the dataset\n"
     ]
    }
   ],
   "source": [
    "print(f\" There are  {data['Brand'].nunique()} unique laptop brands in the dataset\")"
   ]
  },
  {
   "cell_type": "markdown",
   "metadata": {},
   "source": [
    "## Q4. Missing values\n",
    "How many columns in the dataset have missing values?"
   ]
  },
  {
   "cell_type": "code",
   "execution_count": 16,
   "metadata": {},
   "outputs": [
    {
     "name": "stdout",
     "output_type": "stream",
     "text": [
      "Number of columns with missing values: 3\n"
     ]
    }
   ],
   "source": [
    "# Check for missing values in each column\n",
    "missing_values = data.isnull().sum()\n",
    "\n",
    "# Count how many columns have missing values\n",
    "columns_with_missing_values = (missing_values > 0).sum()\n",
    "\n",
    "print(f\"Number of columns with missing values: {columns_with_missing_values}\")\n"
   ]
  },
  {
   "cell_type": "markdown",
   "metadata": {},
   "source": [
    "## Q5. Maximum final price\n",
    "What's the maximum final price of Dell notebooks in the dataset?"
   ]
  },
  {
   "cell_type": "code",
   "execution_count": 50,
   "metadata": {},
   "outputs": [
    {
     "data": {
      "image/png": "[encoded data removed]",
      "text/plain": [
       "<Figure size 1000x800 with 1 Axes>"
      ]
     },
     "metadata": {},
     "output_type": "display_data"
    }
   ],
   "source": [
    "# Set the figure size\n",
    "plt.figure(figsize=(10, 8))\n",
    "data['Brand'].value_counts(). sort_values().plot(kind=\"barh\")\n",
    "# Set labels and title\n",
    "plt.xlabel(\"Count\", fontsize=10)\n",
    "plt.ylabel(\"Brand\", fontsize=10)\n",
    "plt.title(\"Laptop Brand Distribution\", fontsize=14)\n",
    "\n",
    "# Improve label readability by setting rotation and font size\n",
    "plt.xticks(fontsize=10)\n",
    "plt.yticks(fontsize=10)\n",
    "\n",
    "# Show the plot\n",
    "plt.tight_layout()\n",
    "plt.show()"
   ]
  },
  {
   "cell_type": "code",
   "execution_count": 37,
   "metadata": {},
   "outputs": [
    {
     "name": "stdout",
     "output_type": "stream",
     "text": [
      "The maximum final price of Dell notebooks is: 3936.0\n"
     ]
    }
   ],
   "source": [
    "# Filter for Dell notebooks\n",
    "dell_notebooks = data.query('Brand.str.startswith(\"Dell\")', engine='python')\n",
    "dell_notebooks\n",
    "# Find the maximum final price (assuming the column is named 'final_price')\n",
    "max_final_price = dell_notebooks['Final Price'].max()\n",
    "\n",
    "print(f\"The maximum final price of Dell notebooks is: {max_final_price}\")\n",
    "\n"
   ]
  },
  {
   "cell_type": "markdown",
   "metadata": {},
   "source": [
    "# Q6. Median value of Screen\n",
    "* Find the median value of Screen column in the dataset.\n",
    "* Next, calculate the most frequent value of the same Screen column.\n",
    "* Use fillna method to fill the missing values in Screen column with the most frequent value from the previous step.\n",
    "* Now, calculate the median value of Screen once again.\n",
    "Has it changed?"
   ]
  },
  {
   "cell_type": "code",
   "execution_count": 53,
   "metadata": {},
   "outputs": [
    {
     "name": "stdout",
     "output_type": "stream",
     "text": [
      "Median value of the 'Screen' column (before filling missing values): 15.6\n",
      "Most frequent value of the 'Screen' column: 15.6\n",
      "Median value of the 'Screen' column (after filling missing values): 15.6\n",
      "The median value of the 'Screen' column has not changed.\n"
     ]
    }
   ],
   "source": [
    "# Calculate the median of the 'Screen' column\n",
    "median_screen_before = data['Screen'].median()\n",
    "print(f\"Median value of the 'Screen' column (before filling missing values): {median_screen_before}\")\n",
    "\n",
    "\n",
    "# Find the most frequent (mode) value of the 'Screen' column\n",
    "most_frequent_screen = data['Screen'].mode()[0]\n",
    "print(f\"Most frequent value of the 'Screen' column: {most_frequent_screen}\")\n",
    "\n",
    "# Fill missing values in 'Screen' column with the most frequent value\n",
    "data['Screen'].fillna(most_frequent_screen, inplace=True)\n",
    "\n",
    "# Calculate the median of the 'Screen' column again after filling missing values\n",
    "median_screen_after = data['Screen'].median()\n",
    "print(f\"Median value of the 'Screen' column (after filling missing values): {median_screen_after}\")\n",
    "\n",
    "\n",
    "if median_screen_before == median_screen_after:\n",
    "    print(\"The median value of the 'Screen' column has not changed.\")\n",
    "else:\n",
    "    print(\"The median value of the 'Screen' column has changed.\")\n",
    "\n"
   ]
  },
  {
   "cell_type": "markdown",
   "metadata": {},
   "source": []
  },
  {
   "cell_type": "code",
   "execution_count": 71,
   "metadata": {},
   "outputs": [
    {
     "name": "stdout",
     "output_type": "stream",
     "text": [
      "Sum of all elements of w: 91.29988062995815\n"
     ]
    }
   ],
   "source": [
    "# Step 1: Select 'Innjoo' laptops and only 'RAM', 'Storage', 'Screen' columns\n",
    "X = data.query('Brand == \"Innjoo\"')[['RAM', 'Storage', 'Screen']].to_numpy()\n",
    "\n",
    "# Step 2: Compute XTX (matrix-matrix multiplication of X.T and X)\n",
    "XTX = X.T @ X\n",
    "\n",
    "# Step 3: Compute the inverse of XTX\n",
    "XTX_inv = np.linalg.inv(XTX)\n",
    "\n",
    "# Step 4: Create the array y\n",
    "y = np.array([1100, 1300, 800, 900, 1000, 1100])\n",
    "\n",
    "# Step 5: Multiply the inverse of XTX with the transpose of X, then with y to get w\n",
    "w = XTX_inv @ X.T @ y\n",
    "\n",
    "# Step 6: Compute the sum of all the elements of w\n",
    "sum_of_w = w.sum()\n",
    "\n",
    "print(f\"Sum of all elements of w: {sum_of_w}\")\n"
   ]
  }
 ],
 "metadata": {
  "kernelspec": {
   "display_name": "base",
   "language": "python",
   "name": "python3"
  },
  "language_info": {
   "codemirror_mode": {
    "name": "ipython",
    "version": 3
   },
   "file_extension": ".py",
   "mimetype": "text/x-python",
   "name": "python",
   "nbconvert_exporter": "python",
   "pygments_lexer": "ipython3",
   "version": "3.12.4"
  }
 },
 "nbformat": 4,
 "nbformat_minor": 2
}
